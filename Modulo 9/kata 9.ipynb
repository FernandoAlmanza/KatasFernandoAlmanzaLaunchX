{
 "cells": [
  {
   "cell_type": "markdown",
   "metadata": {},
   "source": [
    "# Kata 9\n",
    "\n",
    "## Ejercicio 1"
   ]
  },
  {
   "cell_type": "code",
   "execution_count": 1,
   "metadata": {},
   "outputs": [
    {
     "name": "stdout",
     "output_type": "stream",
     "text": [
      "Promedio de los 3 tanques: 2.0\n"
     ]
    }
   ],
   "source": [
    "def tank_inform(tank1, tank2, tank3):\n",
    "    return f'Promedio de los 3 tanques: {calculate_average(tank1, tank2, tank3)}'\n",
    "\n",
    "\n",
    "def calculate_average(*args):\n",
    "    return sum(args) / 3\n",
    "\n",
    "\n",
    "print(tank_inform(1, 2, 3))\n"
   ]
  },
  {
   "cell_type": "markdown",
   "metadata": {},
   "source": [
    "## Ejercicio 2"
   ]
  },
  {
   "cell_type": "code",
   "execution_count": 2,
   "metadata": {},
   "outputs": [
    {
     "name": "stdout",
     "output_type": "stream",
     "text": [
      "Destiny: Moon\n",
      "External tank remaining: 20%\n",
      "Internal tank remaining: 20%\n",
      "Total tank remaining: 40%\n",
      "Prelaunch time: 14 m\n",
      "Flight time: 51 m\n",
      "Total time: 65 m\n"
     ]
    }
   ],
   "source": [
    "def launch_mission(destiny, ext_tank, int_tank, prelaunch_time, fly_time):\n",
    "    return f'''Destiny: {destiny}\n",
    "External tank remaining: {ext_tank}%\n",
    "Internal tank remaining: {int_tank}%\n",
    "Total tank remaining: {ext_tank + int_tank}%\n",
    "Prelaunch time: {prelaunch_time} m\n",
    "Flight time: {fly_time} m\n",
    "Total time: {prelaunch_time + fly_time} m'''\n",
    "\n",
    "print(launch_mission('Moon', 20, 20, 14, 51))"
   ]
  },
  {
   "cell_type": "code",
   "execution_count": 3,
   "metadata": {},
   "outputs": [
    {
     "name": "stdout",
     "output_type": "stream",
     "text": [
      "Total time: 75 m\n",
      "Destiny: Moon\n",
      "Remaining fuel: 70%\n"
     ]
    }
   ],
   "source": [
    "def launch_mission(destiny, *minutes, **fuel_reservoirs):\n",
    "    tank_output = ''\n",
    "\n",
    "    return f'''Total time: {sum(minutes)} m\n",
    "Destiny: {destiny}\n",
    "Remaining fuel: {sum(fuel_reservoirs.values())}%'''\n",
    "\n",
    "print(launch_mission('Moon', 14, 51, 10, internal_tank=20, external_tank=20, extra_tank=30))\n"
   ]
  }
 ],
 "metadata": {
  "interpreter": {
   "hash": "916dbcbb3f70747c44a77c7bcd40155683ae19c65e1c03b4aa3499c5328201f1"
  },
  "kernelspec": {
   "display_name": "Python 3.9.7 64-bit",
   "language": "python",
   "name": "python3"
  },
  "language_info": {
   "codemirror_mode": {
    "name": "ipython",
    "version": 3
   },
   "file_extension": ".py",
   "mimetype": "text/x-python",
   "name": "python",
   "nbconvert_exporter": "python",
   "pygments_lexer": "ipython3",
   "version": "3.9.7"
  },
  "orig_nbformat": 4
 },
 "nbformat": 4,
 "nbformat_minor": 2
}
