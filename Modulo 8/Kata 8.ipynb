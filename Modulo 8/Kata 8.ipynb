{
 "cells": [
  {
   "cell_type": "markdown",
   "metadata": {},
   "source": [
    "# Kata 8\n",
    "\n",
    "## Ejercicio 1"
   ]
  },
  {
   "cell_type": "code",
   "execution_count": 1,
   "metadata": {},
   "outputs": [
    {
     "name": "stdout",
     "output_type": "stream",
     "text": [
      "Nombre del planeta: Mars\n",
      "Cantidad de lunas: 2\n",
      "Nombre del planeta: Mars\n",
      "Circunferencia polar: 6752 km\n"
     ]
    }
   ],
   "source": [
    "planet = {'name': 'Mars', 'moons': 2}\n",
    "\n",
    "print(f'''Nombre del planeta: {planet['name']}\n",
    "Cantidad de lunas: {planet['moons']}''')\n",
    "\n",
    "planet['circunference'] = {'polar': 6752, 'equatorial': 6792}\n",
    "\n",
    "print(f'''Nombre del planeta: {planet['name']}\n",
    "Circunferencia polar: {planet['circunference']['polar']} km''')"
   ]
  },
  {
   "cell_type": "markdown",
   "metadata": {},
   "source": [
    "## Ejercicio 2"
   ]
  },
  {
   "cell_type": "code",
   "execution_count": 2,
   "metadata": {},
   "outputs": [
    {
     "name": "stdout",
     "output_type": "stream",
     "text": [
      "Total moons: 214\n",
      "Average moons: 17.833333333333332\n"
     ]
    }
   ],
   "source": [
    "planets_moons = {\n",
    "    'mercury': 0,\n",
    "    'venus': 0,\n",
    "    'earth': 1,\n",
    "    'mars': 2,\n",
    "    'jupiter': 79,\n",
    "    'saturn': 82,\n",
    "    'uranus': 27,\n",
    "    'neptune': 14,\n",
    "    'pluto': 5,\n",
    "    'haumea': 2,\n",
    "    'makemake': 1,\n",
    "    'eris': 1\n",
    "}\n",
    "\n",
    "moons = planets_moons.values()\n",
    "total_moons = 0\n",
    "\n",
    "for moon in moons:\n",
    "    total_moons += moon\n",
    "\n",
    "moon_average = total_moons / len(planets_moons)\n",
    "\n",
    "print(f'''Total moons: {total_moons}\n",
    "Average moons: {moon_average}''')"
   ]
  }
 ],
 "metadata": {
  "interpreter": {
   "hash": "916dbcbb3f70747c44a77c7bcd40155683ae19c65e1c03b4aa3499c5328201f1"
  },
  "kernelspec": {
   "display_name": "Python 3.9.7 64-bit",
   "language": "python",
   "name": "python3"
  },
  "language_info": {
   "codemirror_mode": {
    "name": "ipython",
    "version": 3
   },
   "file_extension": ".py",
   "mimetype": "text/x-python",
   "name": "python",
   "nbconvert_exporter": "python",
   "pygments_lexer": "ipython3",
   "version": "3.9.7"
  },
  "orig_nbformat": 4
 },
 "nbformat": 4,
 "nbformat_minor": 2
}
